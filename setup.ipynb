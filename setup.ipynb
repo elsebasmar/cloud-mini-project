{
 "cells": [
  {
   "cell_type": "code",
   "execution_count": null,
   "metadata": {},
   "outputs": [],
   "source": [
    "from google.cloud import storage, bigquery\n",
    "from cellsfiles.params import *"
   ]
  },
  {
   "cell_type": "code",
   "execution_count": null,
   "metadata": {},
   "outputs": [],
   "source": [
    "# Create the client to generate the query\n",
    "client = bigquery.Client(project=PROJECT_ID)"
   ]
  },
  {
   "cell_type": "code",
   "execution_count": null,
   "metadata": {},
   "outputs": [],
   "source": [
    "client._credentials.service_account_email"
   ]
  },
  {
   "cell_type": "code",
   "execution_count": null,
   "metadata": {},
   "outputs": [],
   "source": [
    "PROJECT_ID, BQ_DS, BQ_USERT"
   ]
  },
  {
   "cell_type": "code",
   "execution_count": null,
   "metadata": {},
   "outputs": [],
   "source": [
    "# Create the query to the dataset in GBQ\n",
    "query = f\"SELECT * FROM  `{PROJECT_ID}.{BQ_DS}.{BQ_USERT}` WHERE username = \"\n",
    "query_job = client.query(query)\n",
    "results = query_job.result()\n",
    "list_r = list(results)"
   ]
  },
  {
   "cell_type": "code",
   "execution_count": null,
   "metadata": {},
   "outputs": [],
   "source": [
    "import datetime"
   ]
  },
  {
   "cell_type": "code",
   "execution_count": null,
   "metadata": {},
   "outputs": [],
   "source": [
    "datetime.now()"
   ]
  },
  {
   "cell_type": "code",
   "execution_count": null,
   "metadata": {},
   "outputs": [],
   "source": [
    "expiration_time = datetime.datetime.now(datetime) + datetime.timedelta(days=3650)"
   ]
  },
  {
   "cell_type": "code",
   "execution_count": null,
   "metadata": {},
   "outputs": [],
   "source": []
  },
  {
   "cell_type": "code",
   "execution_count": null,
   "metadata": {},
   "outputs": [],
   "source": [
    "import datetime\n",
    "\n",
    "from pytz import timezone\n",
    "\n",
    "expiration_time = datetime.datetime.now(timezone('UTC')) + datetime.timedelta(days=3650)"
   ]
  },
  {
   "cell_type": "code",
   "execution_count": null,
   "metadata": {},
   "outputs": [],
   "source": [
    "expiration_time"
   ]
  },
  {
   "cell_type": "code",
   "execution_count": 85,
   "metadata": {},
   "outputs": [],
   "source": [
    "from google.cloud import storage\n",
    "from cellsfiles.params import *"
   ]
  },
  {
   "cell_type": "code",
   "execution_count": 91,
   "metadata": {},
   "outputs": [],
   "source": [
    "client = storage.Client()"
   ]
  },
  {
   "cell_type": "code",
   "execution_count": 92,
   "metadata": {},
   "outputs": [],
   "source": [
    "blobs = list(client.get_bucket(BUCKET_NAME).list_blobs())"
   ]
  },
  {
   "cell_type": "code",
   "execution_count": 102,
   "metadata": {},
   "outputs": [
    {
     "name": "stdout",
     "output_type": "stream",
     "text": [
      "04c5794f-0156-4c68-9775-e7ef127f8cfb\n",
      "04c5794f-0156-4c68-9775-e7ef127f8cfb_transcript\n",
      "0886a4d2-849b-455b-b5f9-453ac3fd55f4_transcript\n",
      "10c82e05-1ed1-476b-a45b-c04e692429b5\n",
      "2459db2c-44f5-435c-8e44-cb8cd0c0b861\n",
      "38f58746-f602-462d-885b-9fc60b6ccd17\n",
      "38f58746-f602-462d-885b-9fc60b6ccd17_transcript\n",
      "4c0635a9-f1bb-43c0-85e8-5b43046e6a71\n",
      "4c0635a9-f1bb-43c0-85e8-5b43046e6a71_transcript\n",
      "5753dd66-e460-4b37-80a9-03d99cdb3c6b\n",
      "5753dd66-e460-4b37-80a9-03d99cdb3c6b_transcript\n",
      "Travelodge London Bethnal Green\n",
      "a707fa65-d1ab-4d47-a438-70e98b711f1b\n",
      "a707fa65-d1ab-4d47-a438-70e98b711f1b_transcript\n",
      "a9c4b88f-03ae-4560-8630-5db769479b9c\n",
      "audio_files/a3e931e0-9afc-471d-a35e-1428fe5ffd49\n",
      "audio_files/b817f431-9aaf-44e8-a3ae-17594d7397b8\n",
      "audio_files/trial_different_format\n",
      "cc0ec069-8769-447d-8bbb-102d36249f15\n",
      "cc0ec069-8769-447d-8bbb-102d36249f15_transcript\n",
      "ee3a4fb5-e128-4d91-b04b-d7ee02dd1673\n",
      "ee3a4fb5-e128-4d91-b04b-d7ee02dd1673_transcript\n",
      "f5b3884b-73be-41db-b18a-58167069e1c4\n"
     ]
    }
   ],
   "source": [
    "for b in blobs:\n",
    "    print(b.name)"
   ]
  },
  {
   "cell_type": "code",
   "execution_count": 123,
   "metadata": {},
   "outputs": [],
   "source": [
    "for b in blobs:\n",
    "    if b.name == '04c5794f-0156-4c68-9775-e7ef127f8cfb':\n",
    "        myblob = b\n",
    "        myblob.download_to_filename('current.wav')"
   ]
  },
  {
   "cell_type": "code",
   "execution_count": 130,
   "metadata": {},
   "outputs": [
    {
     "data": {
      "text/plain": [
       "3594318"
      ]
     },
     "execution_count": 130,
     "metadata": {},
     "output_type": "execute_result"
    }
   ],
   "source": [
    "b.size"
   ]
  },
  {
   "cell_type": "code",
   "execution_count": 109,
   "metadata": {},
   "outputs": [
    {
     "ename": "FileNotFoundError",
     "evalue": "[Errno 2] No such file or directory: 'current.wav'",
     "output_type": "error",
     "traceback": [
      "\u001b[0;31m---------------------------------------------------------------------------\u001b[0m",
      "\u001b[0;31mFileNotFoundError\u001b[0m                         Traceback (most recent call last)",
      "Cell \u001b[0;32mIn[109], line 1\u001b[0m\n\u001b[0;32m----> 1\u001b[0m \u001b[43mos\u001b[49m\u001b[38;5;241;43m.\u001b[39;49m\u001b[43mremove\u001b[49m\u001b[43m(\u001b[49m\u001b[38;5;124;43m'\u001b[39;49m\u001b[38;5;124;43mcurrent.wav\u001b[39;49m\u001b[38;5;124;43m'\u001b[39;49m\u001b[43m)\u001b[49m\n",
      "\u001b[0;31mFileNotFoundError\u001b[0m: [Errno 2] No such file or directory: 'current.wav'"
     ]
    }
   ],
   "source": [
    "os.remove('current.wav')"
   ]
  },
  {
   "cell_type": "code",
   "execution_count": 117,
   "metadata": {},
   "outputs": [],
   "source": [
    "audio_id = 'ab'\n",
    "url = 'http://34.89.80.52:5000/speech/'+audio_id"
   ]
  }
 ],
 "metadata": {
  "kernelspec": {
   "display_name": "cc_miniproject",
   "language": "python",
   "name": "python3"
  },
  "language_info": {
   "codemirror_mode": {
    "name": "ipython",
    "version": 3
   },
   "file_extension": ".py",
   "mimetype": "text/x-python",
   "name": "python",
   "nbconvert_exporter": "python",
   "pygments_lexer": "ipython3",
   "version": "3.10.13"
  }
 },
 "nbformat": 4,
 "nbformat_minor": 2
}
